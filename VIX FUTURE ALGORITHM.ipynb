{
 "cells": [
  {
   "cell_type": "code",
   "execution_count": 1,
   "id": "8b1fb4f8",
   "metadata": {},
   "outputs": [],
   "source": [
    "from math import log, sqrt, exp\n",
    "import time\n",
    "import datetime as dt  \n",
    "from datetime import datetime           # date objects\n",
    "import numpy as np                      # array manipulation\n",
    "import matplotlib.pyplot as plot        # plotting\n",
    "import pandas as pd                     # data analysis\n",
    "import pandas_datareader as pdr\n",
    "from scipy.stats import norm  # normal cdf\n",
    "import csv \n",
    "import statsmodels.formula.api as smf # for linear regression\n",
    "from ib_insync import *\n",
    "util.startLoop()"
   ]
  },
  {
   "cell_type": "code",
   "execution_count": 3,
   "id": "264c661a",
   "metadata": {},
   "outputs": [
    {
     "data": {
      "text/plain": [
       "<IB connected to 127.0.0.1:7497 clientId=12>"
      ]
     },
     "execution_count": 3,
     "metadata": {},
     "output_type": "execute_result"
    }
   ],
   "source": [
    "try:\n",
    "    ib.disconnect()\n",
    "    time.sleep(5)\n",
    "except:\n",
    "    print(\"no ib connection to disconnect\")\n",
    "\n",
    "# initialize connection to IBKR\n",
    "ib = IB()\n",
    "ib.connect('127.0.0.1', 7497, clientId=12)  # IB Trader Workstation"
   ]
  },
  {
   "cell_type": "code",
   "execution_count": 4,
   "id": "31bbaaac",
   "metadata": {},
   "outputs": [
    {
     "data": {
      "text/plain": [
       "[ContractDetails(contract=Contract(secType='FUT', conId=540342682, symbol='VIX', lastTradeDateOrContractMonth='20221019', multiplier='1000', exchange='CFE', currency='USD', localSymbol='VXV2', tradingClass='VX'), marketName='VX', minTick=0.05, orderTypes='ACTIVETIM,AD,ADJUST,ALERT,ALGO,ALLOC,AVGCOST,BASKET,BENCHPX,COND,CONDORDER,DAY,DEACT,DEACTDIS,DEACTEOD,GAT,GTC,GTD,GTT,HID,ICE,IOC,LIT,LMT,LTH,MIT,MKT,MTL,NGCOMB,NONALGO,OCA,OPENCLOSE,PEGBENCH,SCALE,SCALERST,SNAPMID,SNAPMKT,SNAPREL,STP,STPLMT,TRAIL,TRAILLIT,TRAILLMT,TRAILMIT,WHATIF', validExchanges='CFE', priceMagnifier=1, underConId=13455763, longName='CBOE Volatility Index', contractMonth='202210', industry='Indices', category='Volatility Index', subcategory='*', timeZoneId='US/Central', tradingHours='20221003:1700-20221004:1600;20221004:1700-20221005:1600;20221005:1700-20221006:1600;20221006:1700-20221007:1600;20221008:CLOSED;20221009:1700-20221010:1600', liquidHours='20221004:0830-20221004:1515;20221005:0830-20221005:1515;20221006:0830-20221006:1515;20221007:0830-20221007:1515;20221008:CLOSED;20221009:1700-20221010:1600', evRule='', evMultiplier=0, mdSizeMultiplier=1, aggGroup=2147483647, underSymbol='VIX', underSecType='IND', marketRuleIds='1304', secIdList=[], realExpirationDate='20221019', lastTradeTime='08:00', stockType='', minSize=1.0, sizeIncrement=1.0, suggestedSizeIncrement=1.0, cusip='', ratings='', descAppend='', bondType='', couponType='', callable=False, putable=False, coupon=0, convertible=False, maturity='', issueDate='', nextOptionDate='', nextOptionType='', nextOptionPartial=False, notes='')]"
      ]
     },
     "execution_count": 4,
     "metadata": {},
     "output_type": "execute_result"
    }
   ],
   "source": [
    "#find the future contract\n",
    "future_date_string='20221019'\n",
    "future = Future('VIX',future_date_string,'CFE')\n",
    "ib.qualifyContracts(future)\n",
    "ib.reqContractDetails(future)"
   ]
  },
  {
   "cell_type": "code",
   "execution_count": 5,
   "id": "72fc5677",
   "metadata": {},
   "outputs": [],
   "source": [
    "#get the price data for the vix future\n",
    "ib.reqMarketDataType(4)\n",
    "[Ticker]=ib.reqTickers(future)\n",
    "Ticker\n",
    "vix_1=Ticker.last"
   ]
  },
  {
   "cell_type": "code",
   "execution_count": 6,
   "id": "6ac72a3f",
   "metadata": {},
   "outputs": [
    {
     "data": {
      "text/plain": [
       "29.1"
      ]
     },
     "execution_count": 6,
     "metadata": {},
     "output_type": "execute_result"
    }
   ],
   "source": [
    "vix_1"
   ]
  },
  {
   "cell_type": "code",
   "execution_count": 7,
   "id": "e7eb1dee",
   "metadata": {},
   "outputs": [],
   "source": [
    "#get the price of the VIX index\n",
    "index = Index('VIX')\n",
    "ib.qualifyContracts(index)\n",
    "ib.reqContractDetails(index)\n",
    "[Ticker]=ib.reqTickers(index)\n",
    "Ticker\n",
    "vix_spot=Ticker.close"
   ]
  },
  {
   "cell_type": "code",
   "execution_count": 8,
   "id": "d7204bdc",
   "metadata": {},
   "outputs": [
    {
     "data": {
      "text/plain": [
       "30.1"
      ]
     },
     "execution_count": 8,
     "metadata": {},
     "output_type": "execute_result"
    }
   ],
   "source": [
    "vix_spot"
   ]
  },
  {
   "cell_type": "code",
   "execution_count": 32,
   "id": "ca340025",
   "metadata": {},
   "outputs": [
    {
     "data": {
      "text/plain": [
       "-0.03322259136212624"
      ]
     },
     "execution_count": 32,
     "metadata": {},
     "output_type": "execute_result"
    }
   ],
   "source": [
    "#construct the signal for backwardation/contango\n",
    "b_signal=(vix_1/vix_spot)-1\n",
    "b_signal\n",
    "#if b_signal is positive, vix term structure is in contango\n",
    "#if b_signal is negative, vix term structure is in bakwardation"
   ]
  },
  {
   "cell_type": "code",
   "execution_count": 33,
   "id": "e91cc4ab",
   "metadata": {},
   "outputs": [
    {
     "data": {
      "text/plain": [
       "-0.018867924528301886"
      ]
     },
     "execution_count": 33,
     "metadata": {},
     "output_type": "execute_result"
    }
   ],
   "source": [
    "#remaining business days\n",
    "today=dt.date.today()\n",
    "future_date=datetime.strptime(future.lastTradeDateOrContractMonth, \"%Y%m%d\").date()\n",
    "days = np.busday_count(today, future_date)\n",
    "days\n",
    "#daily roll calculation\n",
    "daily_roll=(vix_1-vix_spot)/days\n",
    "daily_roll"
   ]
  },
  {
   "cell_type": "code",
   "execution_count": 34,
   "id": "e4759f8b",
   "metadata": {},
   "outputs": [
    {
     "data": {
      "text/plain": [
       "()"
      ]
     },
     "execution_count": 34,
     "metadata": {},
     "output_type": "execute_result"
    }
   ],
   "source": [
    "order=()\n",
    "#first trade:\n",
    "if b_signal<0 and daily_roll<-0.10: \n",
    "    order = MarketOrder('BUY', 10)\n",
    "elif b_signal>0 and daily_roll>0.10:\n",
    "    order = MarketOrder('SELL', 10)\n",
    "order"
   ]
  },
  {
   "cell_type": "code",
   "execution_count": 39,
   "id": "fe76a503",
   "metadata": {},
   "outputs": [],
   "source": [
    "#send order to ib\n",
    "trade = ib.placeOrder(future, order)"
   ]
  },
  {
   "cell_type": "code",
   "execution_count": 12,
   "id": "ae764335",
   "metadata": {},
   "outputs": [
    {
     "data": {
      "text/plain": [
       "[Position(account='DU6067498', contract=Future(conId=540342682, symbol='VIX', lastTradeDateOrContractMonth='20221019', multiplier='1000', currency='USD', localSymbol='VXV2', tradingClass='VX'), position=10.0, avgCost=29452.38)]"
      ]
     },
     "execution_count": 12,
     "metadata": {},
     "output_type": "execute_result"
    }
   ],
   "source": [
    "positions = [p for p in ib.positions() if p.contract.symbol == \"VIX\"]\n",
    "future_pos = [p for p in positions if p.contract.secType == \"FUT\"]\n",
    "future_pos"
   ]
  },
  {
   "cell_type": "code",
   "execution_count": 15,
   "id": "4f2c24e0",
   "metadata": {},
   "outputs": [
    {
     "data": {
      "text/plain": [
       "'20221019'"
      ]
     },
     "execution_count": 15,
     "metadata": {},
     "output_type": "execute_result"
    }
   ],
   "source": [
    "f.contract.lastTradeDateOrContractMonth"
   ]
  },
  {
   "cell_type": "code",
   "execution_count": 14,
   "id": "f2f71b3f",
   "metadata": {},
   "outputs": [],
   "source": [
    "#exit strategy\n",
    "for f in future_pos:\n",
    "    days = np.busday_count(today, datetime.strptime(f.contract.lastTradeDateOrContractMonth, \"%Y%m%d\").date())\n",
    "    daily_roll=(vix_1-vix_spot)/days #need to find a way to update the price here\n",
    "    if f.position>0 and (days<=9 or daily_roll>-0.05):\n",
    "        order = MarketOrder('SELL', f.position)\n",
    "        trade = ib.placeOrder(future, order)\n",
    "    elif f.position<0 and (days<=9 or daily_roll<0.05):\n",
    "        order = MarketOrder('BUY', abs(f.position))\n",
    "        trade = ib.placeOrder(future, order) "
   ]
  },
  {
   "cell_type": "code",
   "execution_count": 17,
   "id": "7b78a086",
   "metadata": {},
   "outputs": [
    {
     "data": {
      "text/html": [
       "<div>\n",
       "<style scoped>\n",
       "    .dataframe tbody tr th:only-of-type {\n",
       "        vertical-align: middle;\n",
       "    }\n",
       "\n",
       "    .dataframe tbody tr th {\n",
       "        vertical-align: top;\n",
       "    }\n",
       "\n",
       "    .dataframe thead th {\n",
       "        text-align: right;\n",
       "    }\n",
       "</style>\n",
       "<table border=\"1\" class=\"dataframe\">\n",
       "  <thead>\n",
       "    <tr style=\"text-align: right;\">\n",
       "      <th></th>\n",
       "      <th>Date</th>\n",
       "      <th>sp_mini_change</th>\n",
       "      <th>vix_futures_change</th>\n",
       "    </tr>\n",
       "  </thead>\n",
       "  <tbody>\n",
       "    <tr>\n",
       "      <th>0</th>\n",
       "      <td>10/03/2022</td>\n",
       "      <td>-0.017298</td>\n",
       "      <td>0.022617</td>\n",
       "    </tr>\n",
       "    <tr>\n",
       "      <th>1</th>\n",
       "      <td>09/30/2022</td>\n",
       "      <td>-0.019771</td>\n",
       "      <td>0.036851</td>\n",
       "    </tr>\n",
       "    <tr>\n",
       "      <th>2</th>\n",
       "      <td>09/29/2022</td>\n",
       "      <td>0.016832</td>\n",
       "      <td>-0.038647</td>\n",
       "    </tr>\n",
       "    <tr>\n",
       "      <th>3</th>\n",
       "      <td>09/28/2022</td>\n",
       "      <td>0.000136</td>\n",
       "      <td>0.006483</td>\n",
       "    </tr>\n",
       "    <tr>\n",
       "      <th>4</th>\n",
       "      <td>09/27/2022</td>\n",
       "      <td>-0.010053</td>\n",
       "      <td>0.024917</td>\n",
       "    </tr>\n",
       "    <tr>\n",
       "      <th>5</th>\n",
       "      <td>09/26/2022</td>\n",
       "      <td>-0.019061</td>\n",
       "      <td>0.082734</td>\n",
       "    </tr>\n",
       "    <tr>\n",
       "      <th>6</th>\n",
       "      <td>09/23/2022</td>\n",
       "      <td>-0.004415</td>\n",
       "      <td>-0.021127</td>\n",
       "    </tr>\n",
       "    <tr>\n",
       "      <th>7</th>\n",
       "      <td>09/22/2022</td>\n",
       "      <td>-0.021850</td>\n",
       "      <td>0.038012</td>\n",
       "    </tr>\n",
       "    <tr>\n",
       "      <th>8</th>\n",
       "      <td>09/21/2022</td>\n",
       "      <td>-0.011280</td>\n",
       "      <td>0.032453</td>\n",
       "    </tr>\n",
       "    <tr>\n",
       "      <th>9</th>\n",
       "      <td>09/20/2022</td>\n",
       "      <td>0.008613</td>\n",
       "      <td>-0.025735</td>\n",
       "    </tr>\n",
       "  </tbody>\n",
       "</table>\n",
       "</div>"
      ],
      "text/plain": [
       "         Date  sp_mini_change  vix_futures_change\n",
       "0  10/03/2022       -0.017298            0.022617\n",
       "1  09/30/2022       -0.019771            0.036851\n",
       "2  09/29/2022        0.016832           -0.038647\n",
       "3  09/28/2022        0.000136            0.006483\n",
       "4  09/27/2022       -0.010053            0.024917\n",
       "5  09/26/2022       -0.019061            0.082734\n",
       "6  09/23/2022       -0.004415           -0.021127\n",
       "7  09/22/2022       -0.021850            0.038012\n",
       "8  09/21/2022       -0.011280            0.032453\n",
       "9  09/20/2022        0.008613           -0.025735"
      ]
     },
     "execution_count": 17,
     "metadata": {},
     "output_type": "execute_result"
    }
   ],
   "source": [
    "## Q4- E-mini and VIX Futures Historical Data\n",
    "today=dt.date.today()\n",
    "today_str=today.strftime(\"%m/%d/%Y\")\n",
    "a_year_ago = today - dt.timedelta(days=365)\n",
    "a_year_ago_str = a_year_ago.strftime(\"%m/%d/%Y\")\n",
    "#data from marketwatch for vx00 and es00\n",
    "vix_futures_data = pd.read_csv('https://www.marketwatch.com/investing/future/vx00/downloaddatapartial?startdate='+a_year_ago_str+'%2000:00:00&enddate='+today_str+'%2000:00:00&daterange=d30&frequency=p1d&csvdownload=true&downloadpartial=false&newdates=false')\n",
    "sp500_futures=pd.read_csv(\"https://www.marketwatch.com/investing/future/es00/downloaddatapartial?startdate=\"+a_year_ago_str+\"%2000:00:00&enddate=\"+today_str+\"%2000:00:00&daterange=d30&frequency=p1d&csvdownload=true&downloadpartial=false&newdates=false\")\n",
    "#use open prices to calculate the percentage changes\n",
    "sample = pd.DataFrame(columns=[\"Date\",\"sp_mini_change\",\"vix_futures_change\"])\n",
    "sample[\"Date\"]=vix_futures_data[\"Date\"]\n",
    "sample[\"sp_mini_change\"]=sp500_futures['Open'].str.replace(',', '').astype(float)/sp500_futures['Open'].str.replace(',', '').astype(float).shift(periods=-1)-1\n",
    "sample[\"vix_futures_change\"]=vix_futures_data['Open']/vix_futures_data['Open'].shift(periods=-1)-1\n",
    "sample.head(10)"
   ]
  },
  {
   "cell_type": "code",
   "execution_count": 18,
   "id": "3dbcdae1",
   "metadata": {},
   "outputs": [
    {
     "name": "stdout",
     "output_type": "stream",
     "text": [
      "optimal hedge ratio is -3.103733647364325\n"
     ]
    }
   ],
   "source": [
    "#chunk for change regression\n",
    "model=smf.ols(\"vix_futures_change~sp_mini_change\",sample).fit()\n",
    "# get the model beta\n",
    "beta=model.params.values[1]\n",
    "print(\"optimal hedge ratio is \"+str(beta))"
   ]
  },
  {
   "cell_type": "code",
   "execution_count": 19,
   "id": "a7ca370f",
   "metadata": {},
   "outputs": [
    {
     "name": "stdout",
     "output_type": "stream",
     "text": [
      "sp500mini price is 3786.0\n"
     ]
    }
   ],
   "source": [
    "#find the sp500 mini future\n",
    "#future_date_string needs to be checked\n",
    "future_date_string='20221216'\n",
    "future = Future('ES', future_date_string,'GLOBEX')\n",
    "#ib.qualifyContracts(future)\n",
    "ib.reqContractDetails(future)[0]\n",
    "#How to get the price data for the vix future\n",
    "ib.reqMarketDataType(4)\n",
    "[Ticker]=ib.reqTickers(future)\n",
    "Ticker\n",
    "sp500mini_price=Ticker.last\n",
    "print('sp500mini price is '+str(sp500mini_price))"
   ]
  },
  {
   "cell_type": "code",
   "execution_count": 27,
   "id": "17ba5b7a",
   "metadata": {},
   "outputs": [
    {
     "data": {
      "text/plain": [
       "-0.4771191185330262"
      ]
     },
     "execution_count": 27,
     "metadata": {},
     "output_type": "execute_result"
    }
   ],
   "source": [
    "#Optimal Hedge amount\n",
    "\n",
    "hedge_amount=(beta*(vix_1*1000)/(sp500mini_price*50))\n",
    "hedge_amount"
   ]
  },
  {
   "cell_type": "code",
   "execution_count": 28,
   "id": "4d77bb13",
   "metadata": {},
   "outputs": [
    {
     "data": {
      "text/plain": [
       "10.0"
      ]
     },
     "execution_count": 28,
     "metadata": {},
     "output_type": "execute_result"
    }
   ],
   "source": [
    "f.position"
   ]
  },
  {
   "cell_type": "code",
   "execution_count": 29,
   "id": "0ffef277",
   "metadata": {},
   "outputs": [
    {
     "data": {
      "text/plain": [
       "MarketOrder(action='SELL', totalQuantity=5)"
      ]
     },
     "execution_count": 29,
     "metadata": {},
     "output_type": "execute_result"
    }
   ],
   "source": [
    "if hedge_amount<0:\n",
    "    hedge_order = MarketOrder('SELL', round(abs(hedge_amount)*f.position)) #be careful on that f.position if you have more than one contract\n",
    "else:\n",
    "    hedge_order = MarketOrder('BUY',round(abs(hedge_amount)*f.position))\n",
    "hedge_order"
   ]
  },
  {
   "cell_type": "code",
   "execution_count": 53,
   "id": "9a9c6b0e",
   "metadata": {},
   "outputs": [
    {
     "name": "stderr",
     "output_type": "stream",
     "text": [
      "Error 321, reqId 63: Error validating request.-'bN' : cause - Order size does not conform to market rule.\n",
      "Canceled order: Trade(contract=Future(symbol='ES', lastTradeDateOrContractMonth='20221216', exchange='GLOBEX'), order=MarketOrder(orderId=63, clientId=10, action='SELL', totalQuantity=-5), orderStatus=OrderStatus(orderId=63, status='Cancelled', filled=0.0, remaining=0.0, avgFillPrice=0.0, permId=0, parentId=0, lastFillPrice=0.0, clientId=0, whyHeld='', mktCapPrice=0.0), fills=[], log=[TradeLogEntry(time=datetime.datetime(2022, 10, 3, 17, 54, 17, 580650, tzinfo=datetime.timezone.utc), status='PendingSubmit', message='', errorCode=0), TradeLogEntry(time=datetime.datetime(2022, 10, 3, 17, 54, 17, 593546, tzinfo=datetime.timezone.utc), status='Cancelled', message=\"Error 321, reqId 63: Error validating request.-'bN' : cause - Order size does not conform to market rule.\", errorCode=321)], advancedError='')\n",
      "Peer closed connection.\n"
     ]
    }
   ],
   "source": [
    "#send order to ibkr\n",
    "trade = ib.placeOrder(future, hedge_order)"
   ]
  }
 ],
 "metadata": {
  "kernelspec": {
   "display_name": "Python 3 (ipykernel)",
   "language": "python",
   "name": "python3"
  },
  "language_info": {
   "codemirror_mode": {
    "name": "ipython",
    "version": 3
   },
   "file_extension": ".py",
   "mimetype": "text/x-python",
   "name": "python",
   "nbconvert_exporter": "python",
   "pygments_lexer": "ipython3",
   "version": "3.9.12"
  }
 },
 "nbformat": 4,
 "nbformat_minor": 5
}
