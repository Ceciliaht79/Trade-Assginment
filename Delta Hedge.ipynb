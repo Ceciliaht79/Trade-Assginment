{
 "cells": [
  {
   "cell_type": "code",
   "execution_count": 16,
   "id": "fa2aae2b-2d1a-42a3-8c31-26cbc171e1c6",
   "metadata": {},
   "outputs": [],
   "source": [
    "from math import log, sqrt, exp\n",
    "import time\n",
    "import datetime as dt                   # date objects\n",
    "import numpy as np                      # array manipulation\n",
    "import matplotlib.pyplot as plot        # plotting\n",
    "import pandas as pd                     # data analysis\n",
    "import pandas_datareader as pdr\n",
    "from scipy.stats import norm  # normal cdf\n",
    "\n",
    "from ib_insync import *\n",
    "util.startLoop()"
   ]
  },
  {
   "cell_type": "code",
   "execution_count": null,
   "id": "8ce992b4",
   "metadata": {},
   "outputs": [],
   "source": [
    "# pull data from \n",
    "indicators = ['SPY']\n",
    "end_date = dt.date.today()\n",
    "start_date = end_date - dt.timedelta(days=365)\n",
    "raw_data = pdr.DataReader(indicators, 'yahoo', start_date, end_date)\n",
    "data = raw_data['Adj Close']"
   ]
  },
  {
   "cell_type": "code",
   "execution_count": 3,
   "id": "907d97dc-0c3d-429f-97a2-19302bf31780",
   "metadata": {},
   "outputs": [
    {
     "name": "stdout",
     "output_type": "stream",
     "text": [
      "Annual Volatility SPY: 30.322686983279574\n"
     ]
    }
   ],
   "source": [
    "std_SPY = data.tail(252).SPY.std()\n",
    "mean_SPY = data.tail(252).SPY.mean()\n",
    "print(f\"Annual Volatility SPY: {std_SPY}\")"
   ]
  },
  {
   "cell_type": "code",
   "execution_count": 3,
   "id": "2ac4812f-a2d8-46e7-ad76-7b4f1343ab73",
   "metadata": {},
   "outputs": [
    {
     "data": {
      "text/plain": [
       "<IB connected to 127.0.0.1:7497 clientId=12>"
      ]
     },
     "execution_count": 3,
     "metadata": {},
     "output_type": "execute_result"
    }
   ],
   "source": [
    "try:\n",
    "    ib.disconnect()\n",
    "    time.sleep(5)\n",
    "except:\n",
    "    print(\"no ib connection to disconnect\")\n",
    "\n",
    "# initialize connection to IBKR\n",
    "ib = IB()\n",
    "ib.connect('127.0.0.1', 7497, clientId=12)  # IB Trader Workstation\n",
    "#ib.connect('127.0.0.1', 4002, clientId=1)    # IB Gateway"
   ]
  },
  {
   "cell_type": "code",
   "execution_count": 4,
   "id": "39ea6e24-ab5f-4019-aad9-c82e00d722a9",
   "metadata": {
    "tags": []
   },
   "outputs": [
    {
     "data": {
      "text/plain": [
       "[Position(account='DU6067498', contract=Stock(conId=756733, symbol='SPY', exchange='ARCA', currency='USD', localSymbol='SPY', tradingClass='SPY'), position=80.0, avgCost=375.664125),\n",
       " Position(account='DU6067498', contract=Future(conId=495512551, symbol='ES', lastTradeDateOrContractMonth='20221216', multiplier='50', currency='USD', localSymbol='ESZ2', tradingClass='ES'), position=-5.0, avgCost=181472.85),\n",
       " Position(account='DU6067498', contract=Future(conId=540342682, symbol='VIX', lastTradeDateOrContractMonth='20221019', multiplier='1000', currency='USD', localSymbol='VXV2', tradingClass='VX'), position=10.0, avgCost=29452.38),\n",
       " Position(account='DU6067498', contract=Option(conId=564970818, symbol='SPY', lastTradeDateOrContractMonth='20221021', strike=390.0, right='C', multiplier='100', currency='USD', localSymbol='SPY   221021C00390000', tradingClass='SPY'), position=-10.0, avgCost=1114.77311)]"
      ]
     },
     "execution_count": 4,
     "metadata": {},
     "output_type": "execute_result"
    }
   ],
   "source": [
    "ib.positions()"
   ]
  },
  {
   "cell_type": "code",
   "execution_count": 5,
   "id": "e75a832e-d627-4453-ba93-98650682048f",
   "metadata": {},
   "outputs": [],
   "source": [
    "# create a contract for the underlying s&p500 index\n",
    "spx = Stock('SPY', 'SMART', 'USD')\n",
    "ib.qualifyContracts(spx)\n",
    "ib.reqMarketDataType(4)\n",
    "\n",
    "# grab the ticker\n",
    "[ticker] = ib.reqTickers(spx)\n",
    "spx_price = ticker.marketPrice()"
   ]
  },
  {
   "cell_type": "code",
   "execution_count": 6,
   "id": "01b080f9-ef95-41b7-9540-dabdf5974c17",
   "metadata": {},
   "outputs": [],
   "source": [
    "# generate the option chain\n",
    "opt_chain = ib.reqSecDefOptParams(spx.symbol, '', spx.secType, spx.conId)\n",
    "chain = next(c for c in opt_chain if c.tradingClass == 'SPY' and c.exchange == 'SMART')\n",
    "\n",
    "# filter strikes for those close to in the money\n",
    "strikes = [s for s in chain.strikes\n",
    "           if spx_price - 20 < s < spx_price + 20]\n",
    "\n",
    "expirations = sorted(exp for exp in chain.expirations)[:3]\n",
    "expirations = ['20221021']\n",
    "\n",
    "rights = ['C']\n",
    "\n",
    "contracts = [Option('SPY', expiration, strike, right, 'SMART', tradingClass='SPY')\n",
    "        for right in rights\n",
    "        for expiration in expirations\n",
    "        for strike in strikes]\n",
    "contracts = ib.qualifyContracts(*contracts)\n",
    "ib.reqMarketDataType(4)"
   ]
  },
  {
   "cell_type": "code",
   "execution_count": 7,
   "id": "b8958373-7784-4dd2-9da4-5a48b76b99a1",
   "metadata": {},
   "outputs": [
    {
     "data": {
      "text/plain": [
       "Ticker(contract=Option(conId=568552091, symbol='SPY', lastTradeDateOrContractMonth='20221021', strike=342.0, right='C', multiplier='100', exchange='SMART', currency='USD', localSymbol='SPY   221021C00342000', tradingClass='SPY'), time=datetime.datetime(2022, 10, 10, 17, 59, 19, 66879, tzinfo=datetime.timezone.utc), marketDataType=3, minTick=0.01, bid=20.33, bidSize=113.0, ask=20.55, askSize=117.0, last=-1.0, lastSize=0.0, volume=0.0, close=23.33)"
      ]
     },
     "execution_count": 7,
     "metadata": {},
     "output_type": "execute_result"
    }
   ],
   "source": [
    "# grab an example contract\n",
    "call = contracts[0]\n",
    "[ticker] = ib.reqTickers(call)\n",
    "ticker"
   ]
  },
  {
   "cell_type": "code",
   "execution_count": 8,
   "id": "2a7a3823-07a9-4dec-a0d4-cde4f2abe298",
   "metadata": {
    "tags": []
   },
   "outputs": [],
   "source": [
    "# now calculate the theoretical prices of these options using BS\n",
    "\n",
    "def bs_price(S, K, T, r, sigma, opt=\"c\"):\n",
    "    \"\"\"Price an option with the black-scholes model\n",
    "\n",
    "    Args:\n",
    "        S (float): Price of the underlying security\n",
    "        K (float): Strike price\n",
    "        T (float): time to maturity\n",
    "        r (float): risk free interest rate\n",
    "        sigma (float): volatility of the underlying security\n",
    "        opt (str, optional): option type. Defaults to \"C\" (call)\n",
    "\n",
    "    Returns:\n",
    "        float: the black-scholes price of the option\n",
    "    \"\"\"\n",
    "    d1 = (np.log(S / K) + (r + sigma**2 / 2.0) * T) / (sigma * np.sqrt(T))\n",
    "    d2 = d1 - sigma * np.sqrt(T)\n",
    "\n",
    "    if opt == \"c\":\n",
    "        bs_price = S * norm.cdf(d1) - K * np.exp(-r * T) * norm.cdf(d2)\n",
    "    elif opt == \"p\":\n",
    "        bs_price = K * np.exp(-r * T) * norm.cdf(-d2) - S * norm.cdf(-d1)\n",
    "    else:\n",
    "        bs_price = None\n",
    "    return bs_price\n"
   ]
  },
  {
   "cell_type": "code",
   "execution_count": null,
   "id": "5d456b6e",
   "metadata": {},
   "outputs": [],
   "source": [
    "price = spx_price\n",
    "strike = ticker.contract.strike\n",
    "maturity = 22/365\n",
    "rfr = 0.036  # use shortterm libor!\n",
    "vol = std_SPY / mean_SPY\n",
    "\n",
    "opt_price = bs_price(price, strike, maturity, rfr, vol)\n",
    "\n",
    "print(f\"The close price of the option is: {ticker.close}\")"
   ]
  },
  {
   "cell_type": "markdown",
   "id": "b82db8f1-bb73-42e6-9eef-fb7f1b5e4b3b",
   "metadata": {},
   "source": [
    "3. At the beginning of the first trading day, sell 10 contracts of the call option with the largest mispricing. What would the proceeds from your trade be if the market price equals the BS option value? What are the actual proceeds from your trade?"
   ]
  },
  {
   "cell_type": "code",
   "execution_count": 10,
   "id": "34aed441-e853-486a-8c21-01b1dfc4a7df",
   "metadata": {},
   "outputs": [
    {
     "data": {
      "text/plain": [
       "[Position(account='DU6067498', contract=Stock(conId=756733, symbol='SPY', exchange='ARCA', currency='USD', localSymbol='SPY', tradingClass='SPY'), position=80.0, avgCost=375.664125),\n",
       " Position(account='DU6067498', contract=Future(conId=495512551, symbol='ES', lastTradeDateOrContractMonth='20221216', multiplier='50', currency='USD', localSymbol='ESZ2', tradingClass='ES'), position=-5.0, avgCost=181472.85),\n",
       " Position(account='DU6067498', contract=Future(conId=540342682, symbol='VIX', lastTradeDateOrContractMonth='20221019', multiplier='1000', currency='USD', localSymbol='VXV2', tradingClass='VX'), position=10.0, avgCost=29452.38),\n",
       " Position(account='DU6067498', contract=Option(conId=564970818, symbol='SPY', lastTradeDateOrContractMonth='20221021', strike=390.0, right='C', multiplier='100', currency='USD', localSymbol='SPY   221021C00390000', tradingClass='SPY'), position=-10.0, avgCost=1114.77311)]"
      ]
     },
     "execution_count": 10,
     "metadata": {},
     "output_type": "execute_result"
    }
   ],
   "source": [
    "ib.positions()"
   ]
  },
  {
   "cell_type": "markdown",
   "id": "5af4abc0-13a7-4b2b-89da-e66b21ceb178",
   "metadata": {},
   "source": [
    "The option delta is the sensitivity of the option to a change in price in the underlying security. \n",
    "\n",
    "$$\n",
    "delta = \\frac{\\partial V}{\\partial S}\n",
    "$$\n"
   ]
  },
  {
   "cell_type": "code",
   "execution_count": 11,
   "id": "1328dc0c-0e89-435e-9f6a-0a34d6b0bdda",
   "metadata": {},
   "outputs": [
    {
     "data": {
      "text/plain": [
       "Ticker(contract=Option(conId=564970818, symbol='SPY', lastTradeDateOrContractMonth='20221021', strike=390.0, right='C', multiplier='100', exchange='SMART', currency='USD', localSymbol='SPY   221021C00390000', tradingClass='SPY'), time=datetime.datetime(2022, 10, 10, 17, 59, 44, 267990, tzinfo=datetime.timezone.utc), marketDataType=3, minTick=0.01, bid=0.35, bidSize=13719.0, ask=0.36, askSize=8105.0, last=-1.0, lastSize=0.0, volume=0.0, close=0.56)"
      ]
     },
     "execution_count": 11,
     "metadata": {},
     "output_type": "execute_result"
    }
   ],
   "source": [
    "# get current positions\n",
    "positions = [p for p in ib.positions() if p.contract.symbol == \"SPY\"]\n",
    "\n",
    "# ensure that you have an open option position\n",
    "opts = [p for p in positions if p.contract.secType == \"OPT\"]\n",
    "if not opts:\n",
    "    print(\"No option position to hedge\")\n",
    "option = opts[0]\n",
    "con = option.contract\n",
    "\n",
    "contracts = ib.qualifyContracts(con)\n",
    "ib.reqMarketDataType(4)\n",
    "[ticker] = ib.reqTickers(*contracts)\n",
    "ticker"
   ]
  },
  {
   "cell_type": "code",
   "execution_count": null,
   "id": "414568a0",
   "metadata": {},
   "outputs": [],
   "source": [
    "# get the option delta from IB\n",
    "delta = ticker.modelGreeks.delta\n",
    "delta_neutral_pos = round(-option.position * delta * 100)\n",
    "\n",
    "# calculate the difference between the hedge requirement and the current position\n",
    "stks = [p for p in positions if p.contract.secType == \"STK\"]\n",
    "if stks:\n",
    "    hedge = delta_neutral_pos - stks[0].position\n",
    "else:\n",
    "    hedge = delta_neutral_pos\n",
    "print(f\"The deltahedge trade needed is SPY: {hedge}\")"
   ]
  },
  {
   "cell_type": "code",
   "execution_count": 27,
   "id": "82229a08-d36c-4472-b679-9ae167125f90",
   "metadata": {},
   "outputs": [],
   "source": [
    "# execute the trade if the hedge outweighs the risk\n",
    "if abs(hedge) > 10:\n",
    "    if hedge > 10:\n",
    "        action = \"BUY\"\n",
    "    else:\n",
    "        action = \"SELL\"\n",
    "        \n",
    "    # return contract and order required to remain delta neutral\n",
    "    contract = Stock(\"SPY\", \"SMART\", \"USD\")\n",
    "    ib.qualifyContracts(contract)\n",
    "    order = MarketOrder(action, abs(hedge))\n",
    "    \n",
    "    # place trade\n",
    "    trade = ib.placeOrder(contract, order)\n",
    "    assert order in ib.orders()\n",
    "    assert trade in ib.trades()\n",
    "    while not trade.isDone():\n",
    "        ib.waitOnUpdate()\n",
    "else:\n",
    "    print(\"Already delta-neutral, no trade required.\")"
   ]
  },
  {
   "cell_type": "code",
   "execution_count": 47,
   "id": "98aeec54-4b25-44e4-9af9-181728eae663",
   "metadata": {},
   "outputs": [
    {
     "data": {
      "text/plain": [
       "[Position(account='DU6067707', contract=Option(conId=564970818, symbol='SPY', lastTradeDateOrContractMonth='20221021', strike=390.0, right='C', multiplier='100', exchange='SMART', currency='USD', localSymbol='SPY   221021C00390000', tradingClass='SPY'), position=-10.0, avgCost=807.28017),\n",
       " Position(account='DU6067707', contract=Future(conId=540342682, symbol='VIX', lastTradeDateOrContractMonth='20221019', multiplier='1000', currency='USD', localSymbol='VXV2', tradingClass='VX'), position=10.0, avgCost=29502.38),\n",
       " Position(account='DU6067707', contract=Future(conId=495512551, symbol='ES', lastTradeDateOrContractMonth='20221216', multiplier='50', currency='USD', localSymbol='ESZ2', tradingClass='ES'), position=-5.0, avgCost=184072.85),\n",
       " Position(account='DU6067707', contract=Stock(conId=756733, symbol='SPY', exchange='ARCA', currency='USD', localSymbol='SPY', tradingClass='SPY'), position=114.0, avgCost=370.3552756)]"
      ]
     },
     "execution_count": 47,
     "metadata": {},
     "output_type": "execute_result"
    },
    {
     "name": "stderr",
     "output_type": "stream",
     "text": [
      "Peer closed connection.\n"
     ]
    }
   ],
   "source": [
    "ib.positions()"
   ]
  },
  {
   "cell_type": "code",
   "execution_count": null,
   "id": "92ffae3e-ee5a-413d-aff3-8840ae737a07",
   "metadata": {},
   "outputs": [],
   "source": [
    "ib.disconnect()"
   ]
  }
 ],
 "metadata": {
  "kernelspec": {
   "display_name": "Python 3 (ipykernel)",
   "language": "python",
   "name": "python3"
  },
  "language_info": {
   "codemirror_mode": {
    "name": "ipython",
    "version": 3
   },
   "file_extension": ".py",
   "mimetype": "text/x-python",
   "name": "python",
   "nbconvert_exporter": "python",
   "pygments_lexer": "ipython3",
   "version": "3.9.12"
  },
  "vscode": {
   "interpreter": {
    "hash": "4ae82d6772557206a20b5b1c955511bcd574119d1a64cb25ff88d6793250536d"
   }
  }
 },
 "nbformat": 4,
 "nbformat_minor": 5
}
